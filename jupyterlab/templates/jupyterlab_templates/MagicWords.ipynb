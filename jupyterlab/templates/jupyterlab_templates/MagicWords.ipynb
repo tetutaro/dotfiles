{
 "cells": [
  {
   "cell_type": "code",
   "execution_count": null,
   "id": "5b4b2667-19db-498a-9743-0dd44fb8f910",
   "metadata": {
    "tags": []
   },
   "outputs": [],
   "source": [
    "# Magic Words\n",
    "from __future__ import annotations\n",
    "import matplotlib as mpl\n",
    "import matplotlib.pyplot as plt  # noqa: F401\n",
    "import seaborn as sns\n",
    "import numpy as np  # noqa: F401\n",
    "import pandas as pd\n",
    "from collections import defaultdict, Counter  # noqa: F401\n",
    "from typing import Union, Optional\n",
    "from IPython.display import display, Markdown\n",
    "\n",
    "%matplotlib inline\n",
    "%load_ext wurlitzer\n",
    "mpl.rcParams[\"font.family\"] = \"Noto Sans JP\"\n",
    "sns.set(font=[\"Noto Sans JP\"], font_scale=1.5)\n",
    "pd.set_option(\"display.date_yearfirst\", True)\n",
    "pd.set_option(\"display.float_format\", \"{:.4f}\".format)\n",
    "\n",
    "\n",
    "# The function displays Table or Text even inside function\n",
    "def show_it(\n",
    "    data: Union[str, pd.DataFrame],\n",
    "    demical: Optional[int] = 4,\n",
    ") -> None:\n",
    "    if isinstance(data, pd.DataFrame):\n",
    "        display(\n",
    "            Markdown(data.to_markdown(floatfmt=f\".{demical}f\", intfmt=\",\"))\n",
    "        )\n",
    "    else:\n",
    "        display(Markdown(data.strip()))\n",
    "    return"
   ]
  },
  {
   "cell_type": "code",
   "execution_count": null,
   "id": "c27e0538-b8f2-4d85-abbf-31a8acd169eb",
   "metadata": {},
   "outputs": [],
   "source": []
  }
 ],
 "metadata": {
  "kernelspec": {
   "display_name": "Python 3 (ipykernel)",
   "language": "python",
   "name": "python3"
  },
  "language_info": {
   "codemirror_mode": {
    "name": "ipython",
    "version": 3
   },
   "file_extension": ".py",
   "mimetype": "text/x-python",
   "name": "python",
   "nbconvert_exporter": "python",
   "pygments_lexer": "ipython3",
   "version": "3.9.16"
  }
 },
 "nbformat": 4,
 "nbformat_minor": 5
}
